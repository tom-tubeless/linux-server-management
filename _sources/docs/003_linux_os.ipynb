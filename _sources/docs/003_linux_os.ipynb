{
 "cells": [
  {
   "cell_type": "markdown",
   "id": "b3794f39",
   "metadata": {},
   "source": [
    "# Was ist ein Betriebssystem\n",
    "Das Betriebssystem eines Computers ist eine Sammlung von Computerprogrammen, die die Systemressourcen eines Computers (z.B. Arbeitsspeicher, Festplatten, etc) verwaltet. Gut erklärt wird das im Video: [Was ist ein Betriebssystem? Computer & IT-Wissen einfach erklärt](https://www.youtube.com/watch?v=oFlk_m-7sfQ).\n",
    "\n",
    "# Linux Philosophie\n",
    "## Einleitung\n",
    "In den Anfängen von Linux war die Installation ein mühsamer Prozess, der das Herunterladen von Dutzenden vo Disketten (über langsame Telefonleitungen) herunterzuladen und eine nach der anderen zu laden.\n",
    "Schließlich entwickelten die Hersteller/Distributoren CD-basierte Installationen, die weitaus benutzerfreundlicher waren, und als der Umfang der Installation allmählich erweitert wurde, setzten sich auch DVD-basierte Methoden durch.\n",
    "Die frühen Installationsprogramme boten eine Vielzahl von Konfigurationsmöglichkeiten, insbesondere in Bezug auf:\n",
    "* Desktop-Manager: (in der Regel GNOME oder KDE), der das Aussehen des Desktops steuert\n",
    "* Software-Auswahl: Im Gegensatz zu den Anbietern anderer Betriebssysteme bieten die Linux-Distributoren nicht nur das grundlegende Betriebssystem und Dienstprogramme, sondern eine breite Palette von Anwendungen und Dienstprogrammen. Bei anderen Betriebssystemen müssen die Äquivalente separat installiert werden (nach der Grundinstallation des Systems), nachdem sie heruntergeladen und/oder aus einer Vielzahl von Quellen erworben werden. Die meisten Linux-Benutzer stellen die gesamte Software, die häufig gebraucht wird, im Paketsystem der Distribution frei zur Verfügung.\n",
    "\n",
    "Die meisten Distributionen beschränken die Anzahl der Auswahlmöglichkeiten, die während der Installation getroffen werden müssen, auf eine kleine Anzahl grundlegender Fragen; die Standardantworten sind die, die am häufigsten nützlich sind. Normalerweise müssen nicht mehr als ein paar offensichtliche Fragen während der Installation beantwortet werden, die recht schnell vonstatten geht. Eine detailliertere Software-Auswahl kann nach der Installation mit Hilfe verschiedener grafischer Paketverwaltungssysteme getroffen werden.\n",
    "\n",
    "## Linux Distributionen\n",
    "Der Begriff Linux mag für verschiedene Leute unterschiedliche Bedeutungen haben, aber im engeren Sinne bezieht er sich nur auf den Betriebssystem-Kernel: das Basisprogramm, das allem anderen zugrunde liegt, das mit der Hardware (wie CPU, Speicher und angeschlossene Geräte) und die Anwendungen, die auf dem Computer laufen.\n",
    "Alles andere auf Ihrem Computer (einschließlich der gesamten Software, die Sie für eine schöne grafische Oberfläche benötigen) stellt das vollständige Betriebssystem, zu dem viele Anwendungen hinzugefügt werden.\n",
    "Wenn die Leute den lose definierten Begriff Linux-System verwenden, sollten sie eigentlich Linux-basiertes System sagen.\n",
    "Es ist eine Menge Arbeit, all die anderen Komponenten zusammenzustellen, die über dem Linux-Kernel liegen (Anwendungen, Bibliotheken, grafische Umgebungen usw.), und es ist die Aufgabe einer Linux-Distribution, all diese Komponenten in eine eine saubere und aktualisierbare Einheit zu integrieren, aus der die Benutzer Nutzen ziehen können.\n",
    "Es gibt viele verschiedene Linux-Distributionen (manchmal auch Distros genannt).\n",
    "Es wäre zwar einfacher, eine vorzugeben und dementsprechend Anweisungen zu geben aber:\n",
    "* Du solltst verstehen, was global für alle Linux-Systeme gilt und was nur für eine bestimmte Familie von Distributionen gilt.\n",
    "* Die [Linux Foundation](https://www.linuxfoundation.org/) unterstützt oder fördert keine bestimmte Distribution, sondern die Gemeinschaft als Ganzes.\n",
    "\n",
    "Daher werden hier die folgendenen Distributionsfamilien vorgestellt:\n",
    "* Red Hat: Einschließlich Fedora, Red Hat Enterprise Linux (RHEL) und CentOS.\n",
    "* Debian: Einschließlich Debian, Ubuntu und Linux Mint.\n",
    "* SUSE: Einschließlich SUSE und openSUSE.\n",
    "\n",
    "Was die Mitglieder einer bestimmten Familie eint, ist vor allem die Methode der Software-Paketierung, Installation und Aktualisierung der Software.\n",
    "Relativ unerfahrene Benutzer werden sich mit Ubuntu oder Linux Mint am leichtesten zurechtfinden, während diejenigen, die mit leistungsfähigere Hardware oder sogenannte Enterprise-Systeme gewohnt sind, werden CentOS oder openSUSE am leichtesten begreifen.\n",
    "Schau dich ruhig selber um um der buntern Linux-Welt; zum Beispiel auf [Distrowatch](https://distrowatch.com/) oder [LWN](https://static.lwn.net/Distributions/).\n",
    "\n",
    "\n",
    "\n",
    "# Grundlagen des Linux-Betriebssystems\n",
    "\n",
    "```{bibliography}\n",
    ":style: plain\n",
    "```"
   ]
  }
 ],
 "metadata": {
  "jupytext": {
   "text_representation": {
    "extension": ".md",
    "format_name": "myst",
    "format_version": 0.13,
    "jupytext_version": "1.10.3"
   }
  },
  "kernelspec": {
   "display_name": "Python 3.9",
   "language": "python",
   "name": "python3"
  },
  "language_info": {
   "codemirror_mode": {
    "name": "ipython",
    "version": 3
   },
   "file_extension": ".py",
   "mimetype": "text/x-python",
   "name": "python",
   "nbconvert_exporter": "python",
   "pygments_lexer": "ipython3",
   "version": "3.10.2"
  },
  "source_map": [
   12
  ]
 },
 "nbformat": 4,
 "nbformat_minor": 5
}